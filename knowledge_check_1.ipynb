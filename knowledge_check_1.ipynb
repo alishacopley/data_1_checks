{
 "cells": [
  {
   "cell_type": "code",
   "execution_count": null,
   "metadata": {},
   "outputs": [],
   "source": [
    "import requests\n",
    "import pandas as pd"
   ]
  }
 ],
 "metadata": {
  "kernelspec": {
   "display_name": "Python 3.9.13 ('codeky')",
   "language": "python",
   "name": "python3"
  },
  "language_info": {
   "name": "python",
   "version": "3.9.13"
  },
  "orig_nbformat": 4,
  "vscode": {
   "interpreter": {
    "hash": "e068d24fe8e52e223bee998cbbad8f07c178951a538f1dad60eccda01d422277"
   }
  }
 },
 "nbformat": 4,
 "nbformat_minor": 2
}
